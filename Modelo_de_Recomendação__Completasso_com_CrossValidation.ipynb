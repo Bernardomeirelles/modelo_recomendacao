{
  "cells": [
    {
      "cell_type": "markdown",
      "metadata": {
        "id": "view-in-github",
        "colab_type": "text"
      },
      "source": [
        "<a href=\"https://colab.research.google.com/github/Bernardomeirelles/modleo_recomendacao/blob/main/Modelo_de_Recomenda%C3%A7%C3%A3o__Completasso_com_CrossValidation.ipynb\" target=\"_parent\"><img src=\"https://colab.research.google.com/assets/colab-badge.svg\" alt=\"Open In Colab\"/></a>"
      ]
    },
    {
      "cell_type": "markdown",
      "id": "c29d419a",
      "metadata": {
        "id": "c29d419a"
      },
      "source": [
        "# Notebook para Classificação Binária de Reviews da B2W\n",
        "\n",
        "Este notebook implementa uma rede neural usando Keras/TensorFlow para classificar se uma review do dataset `B2W-Reviews01.csv` recomenda ou não um produto a um amigo.\n",
        "\n",
        "**Instruções seguidas:**\n",
        "1. Utiliza a coluna `recommend_to_a_friend`.\n",
        "2. Utiliza `review_text` como texto de entrada.\n",
        "3. Divisão treino/teste 80/20.\n",
        "4. Implementa validação cruzada (K-Fold).\n",
        "5. Exporta o modelo treinado (`.keras`).\n",
        "6. Cria uma função para predição de novos dados.\n",
        "7. Preparado para execução no Google Colab."
      ]
    },
    {
      "cell_type": "code",
      "execution_count": 57,
      "id": "3982d458",
      "metadata": {
        "id": "3982d458"
      },
      "outputs": [],
      "source": [
        "# 1. Instalação de Dependências\n",
        "# Descomente e execute a célula abaixo se estiver no Google Colab ou em um ambiente sem as bibliotecas instaladas.\n",
        "# !pip install tensorflow pandas scikit-learn"
      ]
    },
    {
      "cell_type": "markdown",
      "id": "d2db3dde",
      "metadata": {
        "id": "d2db3dde"
      },
      "source": [
        "# 2. Importar Bibliotecas"
      ]
    },
    {
      "cell_type": "code",
      "execution_count": 93,
      "id": "80d9cf0a",
      "metadata": {
        "id": "80d9cf0a"
      },
      "outputs": [],
      "source": [
        "import pandas as pd\n",
        "import numpy as np\n",
        "import tensorflow as tf\n",
        "from tensorflow import keras # Importar keras de tensorflow\n",
        "from tensorflow.keras.layers import Embedding, GlobalAveragePooling1D, Dense, TextVectorization\n",
        "from tensorflow.keras.models import Sequential\n",
        "from tensorflow.keras import utils # Importar utils para o decorador\n",
        "from sklearn.model_selection import train_test_split, StratifiedKFold\n",
        "from sklearn.metrics import accuracy_score, classification_report, confusion_matrix\n",
        "import seaborn as sns\n",
        "import matplotlib.pyplot as plt\n",
        "import pickle\n",
        "import re\n",
        "import string"
      ]
    },
    {
      "cell_type": "markdown",
      "id": "e1c5ccda",
      "metadata": {
        "id": "e1c5ccda"
      },
      "source": [
        "# 3. Carregar e Preparar os Dados"
      ]
    },
    {
      "cell_type": "code",
      "execution_count": 95,
      "id": "f6fd8b2c",
      "metadata": {
        "colab": {
          "base_uri": "https://localhost:8080/"
        },
        "id": "f6fd8b2c",
        "outputId": "ad53ffc7-16c6-4ce5-9024-7bee65684a51"
      },
      "outputs": [
        {
          "output_type": "stream",
          "name": "stderr",
          "text": [
            "<ipython-input-95-75aafc1405b4>:6: DtypeWarning: Columns (2) have mixed types. Specify dtype option on import or set low_memory=False.\n",
            "  df = pd.read_csv(csv_path)\n"
          ]
        },
        {
          "output_type": "stream",
          "name": "stdout",
          "text": [
            "Dataset 'B2W-Reviews01.csv' carregado com sucesso.\n",
            "Total de amostras após limpeza: 129080\n",
            "Distribuição da classe target (0 = Não Recomenda, 1 = Recomenda):\n",
            "target\n",
            "1    0.736489\n",
            "0    0.263511\n",
            "Name: proportion, dtype: float64\n"
          ]
        }
      ],
      "source": [
        "# Carregar o dataset\n",
        "# Certifique-se de que o arquivo B2W-Reviews01.csv está no mesmo diretório ou forneça o caminho correto.\n",
        "# No Google Colab, você precisará fazer o upload do arquivo.\n",
        "csv_path = 'B2W-Reviews01.csv'\n",
        "try:\n",
        "    df = pd.read_csv(csv_path)\n",
        "    print(f\"Dataset '{csv_path}' carregado com sucesso.\")\n",
        "except FileNotFoundError:\n",
        "    print(f\"Erro: Arquivo '{csv_path}' não encontrado. Faça o upload para o ambiente do Colab.\")\n",
        "    # Você pode adicionar um comando para parar a execução aqui se desejar\n",
        "    # raise\n",
        "\n",
        "if 'df' in locals(): # Prosseguir apenas se o df foi carregado\n",
        "    # Selecionar colunas relevantes e tratar valores ausentes\n",
        "    df = df[['review_text', 'recommend_to_a_friend']].copy()\n",
        "    df.dropna(subset=['review_text', 'recommend_to_a_friend'], inplace=True)\n",
        "\n",
        "    # Criar a variável target binária (1 para 'Yes', 0 para 'No')\n",
        "    df['target'] = df['recommend_to_a_friend'].apply(lambda x: 1 if x == 'Yes' else 0)\n",
        "\n",
        "    # Exibir informações básicas e distribuição da classe\n",
        "    print(f\"Total de amostras após limpeza: {len(df)}\")\n",
        "    print(\"Distribuição da classe target (0 = Não Recomenda, 1 = Recomenda):\")\n",
        "    print(df['target'].value_counts(normalize=True))\n",
        "\n",
        "    # Definir X e y\n",
        "    X = df['review_text'].astype(str) # Garantir que é string\n",
        "    y = df['target'].values"
      ]
    },
    {
      "cell_type": "markdown",
      "id": "f6345324",
      "metadata": {
        "id": "f6345324"
      },
      "source": [
        "# 4. Dividir Dados em Treino e Teste (80/20)"
      ]
    },
    {
      "cell_type": "code",
      "execution_count": 97,
      "id": "e03de599",
      "metadata": {
        "colab": {
          "base_uri": "https://localhost:8080/"
        },
        "id": "e03de599",
        "outputId": "a3a4bbbb-0e4f-4c5d-c688-bc71c9216597"
      },
      "outputs": [
        {
          "output_type": "stream",
          "name": "stdout",
          "text": [
            "Tamanho do conjunto de treino completo: 103264\n",
            "Tamanho do conjunto de teste: 25816\n"
          ]
        }
      ],
      "source": [
        "if 'X' in locals(): # Prosseguir apenas se X e y existem\n",
        "    X_train_full, X_test, y_train_full, y_test = train_test_split(X, y, test_size=0.2, random_state=42, stratify=y)\n",
        "\n",
        "    print(f\"Tamanho do conjunto de treino completo: {len(X_train_full)}\")\n",
        "    print(f\"Tamanho do conjunto de teste: {len(X_test)}\")\n",
        "else:\n",
        "    print(\"Erro: Variáveis X e y não definidas. Verifique o carregamento dos dados.\")"
      ]
    },
    {
      "cell_type": "markdown",
      "id": "264ab4c5",
      "metadata": {
        "id": "264ab4c5"
      },
      "source": [
        "# 5. Pré-processamento de Texto com TextVectorization"
      ]
    },
    {
      "cell_type": "code",
      "execution_count": 104,
      "id": "f6038957",
      "metadata": {
        "colab": {
          "base_uri": "https://localhost:8080/"
        },
        "id": "f6038957",
        "outputId": "171aa08f-f29f-4359-858a-24643701969d"
      },
      "outputs": [
        {
          "output_type": "stream",
          "name": "stdout",
          "text": [
            "Adaptando a camada TextVectorization (aprendendo o vocabulário)...\n",
            "Adaptação concluída.\n"
          ]
        }
      ],
      "source": [
        "\n",
        "\n",
        "@utils.register_keras_serializable()\n",
        "def custom_standardization(input_data):\n",
        "    lowercase = tf.strings.lower(input_data)\n",
        "    stripped_html = tf.strings.regex_replace(lowercase, \"<br />\", \" \")\n",
        "    return tf.strings.regex_replace(stripped_html,\n",
        "                                  \"[%s]\" % re.escape(string.punctuation),\n",
        "                                  \"\")\n",
        "\n",
        "if 'X_train_full' in locals(): # Prosseguir apenas se os dados de treino existem\n",
        "    # Definir parâmetros para TextVectorization\n",
        "    max_features = 10000  # Número máximo de palavras no vocabulário\n",
        "    sequence_length = 250 # Comprimento máximo das sequências\n",
        "\n",
        "    # Instanciar a camada TextVectorization\n",
        "    # Usando a função custom_standardization registrada\n",
        "    vectorize_layer = TextVectorization(\n",
        "        standardize=custom_standardization, # Usa a função registrada\n",
        "        max_tokens=max_features,\n",
        "        output_mode='int',\n",
        "        output_sequence_length=sequence_length)\n",
        "  # Adaptar a camada TextVectorization APENAS com os dados de treino\n",
        "    print(\"Adaptando a camada TextVectorization (aprendendo o vocabulário)...\")\n",
        "    vectorize_layer.adapt(X_train_full.values)\n",
        "    print(\"Adaptação concluída.\")\n",
        "\n",
        "else:\n",
        "    print(\"Erro: Conjunto de treino (X_train_full) não definido. Verifique a divisão dos dados.\")"
      ]
    },
    {
      "cell_type": "markdown",
      "id": "dc427310",
      "metadata": {
        "id": "dc427310"
      },
      "source": [
        "# 6. Construção do Modelo de Rede Neural"
      ]
    },
    {
      "cell_type": "code",
      "execution_count": 105,
      "id": "cd14690b",
      "metadata": {
        "colab": {
          "base_uri": "https://localhost:8080/",
          "height": 364
        },
        "id": "cd14690b",
        "outputId": "e913403b-bacb-4e44-8aa9-171a868019e2"
      },
      "outputs": [
        {
          "output_type": "stream",
          "name": "stdout",
          "text": [
            "--- Arquitetura do Modelo ---\n"
          ]
        },
        {
          "output_type": "display_data",
          "data": {
            "text/plain": [
              "\u001b[1mModel: \"sequential_17\"\u001b[0m\n"
            ],
            "text/html": [
              "<pre style=\"white-space:pre;overflow-x:auto;line-height:normal;font-family:Menlo,'DejaVu Sans Mono',consolas,'Courier New',monospace\"><span style=\"font-weight: bold\">Model: \"sequential_17\"</span>\n",
              "</pre>\n"
            ]
          },
          "metadata": {}
        },
        {
          "output_type": "display_data",
          "data": {
            "text/plain": [
              "┏━━━━━━━━━━━━━━━━━━━━━━━━━━━━━━━━━┳━━━━━━━━━━━━━━━━━━━━━━━━┳━━━━━━━━━━━━━━━┓\n",
              "┃\u001b[1m \u001b[0m\u001b[1mLayer (type)                   \u001b[0m\u001b[1m \u001b[0m┃\u001b[1m \u001b[0m\u001b[1mOutput Shape          \u001b[0m\u001b[1m \u001b[0m┃\u001b[1m \u001b[0m\u001b[1m      Param #\u001b[0m\u001b[1m \u001b[0m┃\n",
              "┡━━━━━━━━━━━━━━━━━━━━━━━━━━━━━━━━━╇━━━━━━━━━━━━━━━━━━━━━━━━╇━━━━━━━━━━━━━━━┩\n",
              "│ text_vectorization_4            │ ?                      │   \u001b[38;5;34m0\u001b[0m (unbuilt) │\n",
              "│ (\u001b[38;5;33mTextVectorization\u001b[0m)             │                        │               │\n",
              "├─────────────────────────────────┼────────────────────────┼───────────────┤\n",
              "│ embedding_17 (\u001b[38;5;33mEmbedding\u001b[0m)        │ ?                      │   \u001b[38;5;34m0\u001b[0m (unbuilt) │\n",
              "├─────────────────────────────────┼────────────────────────┼───────────────┤\n",
              "│ global_average_pooling1d_17     │ ?                      │             \u001b[38;5;34m0\u001b[0m │\n",
              "│ (\u001b[38;5;33mGlobalAveragePooling1D\u001b[0m)        │                        │               │\n",
              "├─────────────────────────────────┼────────────────────────┼───────────────┤\n",
              "│ dense_34 (\u001b[38;5;33mDense\u001b[0m)                │ ?                      │   \u001b[38;5;34m0\u001b[0m (unbuilt) │\n",
              "├─────────────────────────────────┼────────────────────────┼───────────────┤\n",
              "│ dense_35 (\u001b[38;5;33mDense\u001b[0m)                │ ?                      │   \u001b[38;5;34m0\u001b[0m (unbuilt) │\n",
              "└─────────────────────────────────┴────────────────────────┴───────────────┘\n"
            ],
            "text/html": [
              "<pre style=\"white-space:pre;overflow-x:auto;line-height:normal;font-family:Menlo,'DejaVu Sans Mono',consolas,'Courier New',monospace\">┏━━━━━━━━━━━━━━━━━━━━━━━━━━━━━━━━━┳━━━━━━━━━━━━━━━━━━━━━━━━┳━━━━━━━━━━━━━━━┓\n",
              "┃<span style=\"font-weight: bold\"> Layer (type)                    </span>┃<span style=\"font-weight: bold\"> Output Shape           </span>┃<span style=\"font-weight: bold\">       Param # </span>┃\n",
              "┡━━━━━━━━━━━━━━━━━━━━━━━━━━━━━━━━━╇━━━━━━━━━━━━━━━━━━━━━━━━╇━━━━━━━━━━━━━━━┩\n",
              "│ text_vectorization_4            │ ?                      │   <span style=\"color: #00af00; text-decoration-color: #00af00\">0</span> (unbuilt) │\n",
              "│ (<span style=\"color: #0087ff; text-decoration-color: #0087ff\">TextVectorization</span>)             │                        │               │\n",
              "├─────────────────────────────────┼────────────────────────┼───────────────┤\n",
              "│ embedding_17 (<span style=\"color: #0087ff; text-decoration-color: #0087ff\">Embedding</span>)        │ ?                      │   <span style=\"color: #00af00; text-decoration-color: #00af00\">0</span> (unbuilt) │\n",
              "├─────────────────────────────────┼────────────────────────┼───────────────┤\n",
              "│ global_average_pooling1d_17     │ ?                      │             <span style=\"color: #00af00; text-decoration-color: #00af00\">0</span> │\n",
              "│ (<span style=\"color: #0087ff; text-decoration-color: #0087ff\">GlobalAveragePooling1D</span>)        │                        │               │\n",
              "├─────────────────────────────────┼────────────────────────┼───────────────┤\n",
              "│ dense_34 (<span style=\"color: #0087ff; text-decoration-color: #0087ff\">Dense</span>)                │ ?                      │   <span style=\"color: #00af00; text-decoration-color: #00af00\">0</span> (unbuilt) │\n",
              "├─────────────────────────────────┼────────────────────────┼───────────────┤\n",
              "│ dense_35 (<span style=\"color: #0087ff; text-decoration-color: #0087ff\">Dense</span>)                │ ?                      │   <span style=\"color: #00af00; text-decoration-color: #00af00\">0</span> (unbuilt) │\n",
              "└─────────────────────────────────┴────────────────────────┴───────────────┘\n",
              "</pre>\n"
            ]
          },
          "metadata": {}
        },
        {
          "output_type": "display_data",
          "data": {
            "text/plain": [
              "\u001b[1m Total params: \u001b[0m\u001b[38;5;34m0\u001b[0m (0.00 B)\n"
            ],
            "text/html": [
              "<pre style=\"white-space:pre;overflow-x:auto;line-height:normal;font-family:Menlo,'DejaVu Sans Mono',consolas,'Courier New',monospace\"><span style=\"font-weight: bold\"> Total params: </span><span style=\"color: #00af00; text-decoration-color: #00af00\">0</span> (0.00 B)\n",
              "</pre>\n"
            ]
          },
          "metadata": {}
        },
        {
          "output_type": "display_data",
          "data": {
            "text/plain": [
              "\u001b[1m Trainable params: \u001b[0m\u001b[38;5;34m0\u001b[0m (0.00 B)\n"
            ],
            "text/html": [
              "<pre style=\"white-space:pre;overflow-x:auto;line-height:normal;font-family:Menlo,'DejaVu Sans Mono',consolas,'Courier New',monospace\"><span style=\"font-weight: bold\"> Trainable params: </span><span style=\"color: #00af00; text-decoration-color: #00af00\">0</span> (0.00 B)\n",
              "</pre>\n"
            ]
          },
          "metadata": {}
        },
        {
          "output_type": "display_data",
          "data": {
            "text/plain": [
              "\u001b[1m Non-trainable params: \u001b[0m\u001b[38;5;34m0\u001b[0m (0.00 B)\n"
            ],
            "text/html": [
              "<pre style=\"white-space:pre;overflow-x:auto;line-height:normal;font-family:Menlo,'DejaVu Sans Mono',consolas,'Courier New',monospace\"><span style=\"font-weight: bold\"> Non-trainable params: </span><span style=\"color: #00af00; text-decoration-color: #00af00\">0</span> (0.00 B)\n",
              "</pre>\n"
            ]
          },
          "metadata": {}
        }
      ],
      "source": [
        "embedding_dim = 16\n",
        "\n",
        "def create_model():\n",
        "    # A camada vectorize_layer definida e adaptada na célula anterior\n",
        "    # é incluída como a primeira camada do modelo.\n",
        "    model = Sequential([\n",
        "        vectorize_layer, # Camada de vetorização JÁ ADAPTADA\n",
        "        Embedding(max_features + 1, embedding_dim),\n",
        "        GlobalAveragePooling1D(),\n",
        "        Dense(16, activation='relu'),\n",
        "        Dense(1, activation='sigmoid') # Saída binária\n",
        "    ])\n",
        "\n",
        "    model.compile(optimizer='adam',\n",
        "                  loss='binary_crossentropy',\n",
        "                  metrics=['accuracy'])\n",
        "    return model\n",
        "\n",
        "# Criar uma instância para ver o sumário (opcional)\n",
        "if 'vectorize_layer' in locals():\n",
        "    model_summary = create_model()\n",
        "    print( \"--- Arquitetura do Modelo ---\")\n",
        "    model_summary.summary()\n",
        "else:\n",
        "    print(\"Erro: Camada de vetorização não definida. Verifique o pré-processamento.\")"
      ]
    },
    {
      "cell_type": "markdown",
      "id": "42981378",
      "metadata": {
        "id": "42981378"
      },
      "source": [
        "# 7. Treinamento com Validação Cruzada (Stratified K-Fold)"
      ]
    },
    {
      "cell_type": "code",
      "execution_count": 106,
      "id": "3d468286",
      "metadata": {
        "colab": {
          "base_uri": "https://localhost:8080/"
        },
        "id": "3d468286",
        "outputId": "c2a0d982-7604-45c4-a9c4-fd41071c2f25"
      },
      "outputs": [
        {
          "output_type": "stream",
          "name": "stdout",
          "text": [
            "Iniciando treinamento com validação cruzada (5 folds)...\n",
            "--- Fold 1/5 ---\n",
            "Treinando Fold 1 por 5 épocas...\n",
            "Epoch 1/5\n",
            "\u001b[1m2582/2582\u001b[0m \u001b[32m━━━━━━━━━━━━━━━━━━━━\u001b[0m\u001b[37m\u001b[0m \u001b[1m20s\u001b[0m 7ms/step - accuracy: 0.7466 - loss: 0.5328 - val_accuracy: 0.8073 - val_loss: 0.3920\n",
            "Epoch 2/5\n",
            "\u001b[1m2582/2582\u001b[0m \u001b[32m━━━━━━━━━━━━━━━━━━━━\u001b[0m\u001b[37m\u001b[0m \u001b[1m17s\u001b[0m 6ms/step - accuracy: 0.8652 - loss: 0.3200 - val_accuracy: 0.8479 - val_loss: 0.3478\n",
            "Epoch 3/5\n",
            "\u001b[1m2582/2582\u001b[0m \u001b[32m━━━━━━━━━━━━━━━━━━━━\u001b[0m\u001b[37m\u001b[0m \u001b[1m21s\u001b[0m 7ms/step - accuracy: 0.8883 - loss: 0.2773 - val_accuracy: 0.8611 - val_loss: 0.3208\n",
            "Epoch 4/5\n",
            "\u001b[1m2582/2582\u001b[0m \u001b[32m━━━━━━━━━━━━━━━━━━━━\u001b[0m\u001b[37m\u001b[0m \u001b[1m19s\u001b[0m 6ms/step - accuracy: 0.8973 - loss: 0.2608 - val_accuracy: 0.8684 - val_loss: 0.3099\n",
            "Epoch 5/5\n",
            "\u001b[1m2582/2582\u001b[0m \u001b[32m━━━━━━━━━━━━━━━━━━━━\u001b[0m\u001b[37m\u001b[0m \u001b[1m20s\u001b[0m 6ms/step - accuracy: 0.9035 - loss: 0.2498 - val_accuracy: 0.8741 - val_loss: 0.3025\n",
            "-> Acurácia de validação do Fold 1: 0.8741\n",
            "--- Fold 2/5 ---\n",
            "Treinando Fold 2 por 5 épocas...\n",
            "Epoch 1/5\n",
            "\u001b[1m2582/2582\u001b[0m \u001b[32m━━━━━━━━━━━━━━━━━━━━\u001b[0m\u001b[37m\u001b[0m \u001b[1m19s\u001b[0m 7ms/step - accuracy: 0.7606 - loss: 0.5089 - val_accuracy: 0.8519 - val_loss: 0.3216\n",
            "Epoch 2/5\n",
            "\u001b[1m2582/2582\u001b[0m \u001b[32m━━━━━━━━━━━━━━━━━━━━\u001b[0m\u001b[37m\u001b[0m \u001b[1m16s\u001b[0m 6ms/step - accuracy: 0.8769 - loss: 0.3012 - val_accuracy: 0.8655 - val_loss: 0.3070\n",
            "Epoch 3/5\n",
            "\u001b[1m2582/2582\u001b[0m \u001b[32m━━━━━━━━━━━━━━━━━━━━\u001b[0m\u001b[37m\u001b[0m \u001b[1m16s\u001b[0m 6ms/step - accuracy: 0.8928 - loss: 0.2748 - val_accuracy: 0.8691 - val_loss: 0.3033\n",
            "Epoch 4/5\n",
            "\u001b[1m2582/2582\u001b[0m \u001b[32m━━━━━━━━━━━━━━━━━━━━\u001b[0m\u001b[37m\u001b[0m \u001b[1m16s\u001b[0m 6ms/step - accuracy: 0.9006 - loss: 0.2618 - val_accuracy: 0.8677 - val_loss: 0.3038\n",
            "Epoch 5/5\n",
            "\u001b[1m2582/2582\u001b[0m \u001b[32m━━━━━━━━━━━━━━━━━━━━\u001b[0m\u001b[37m\u001b[0m \u001b[1m21s\u001b[0m 6ms/step - accuracy: 0.9048 - loss: 0.2527 - val_accuracy: 0.8689 - val_loss: 0.3022\n",
            "-> Acurácia de validação do Fold 2: 0.8689\n",
            "--- Fold 3/5 ---\n",
            "Treinando Fold 3 por 5 épocas...\n",
            "Epoch 1/5\n",
            "\u001b[1m2582/2582\u001b[0m \u001b[32m━━━━━━━━━━━━━━━━━━━━\u001b[0m\u001b[37m\u001b[0m \u001b[1m18s\u001b[0m 6ms/step - accuracy: 0.7571 - loss: 0.5160 - val_accuracy: 0.8230 - val_loss: 0.3753\n",
            "Epoch 2/5\n",
            "\u001b[1m2582/2582\u001b[0m \u001b[32m━━━━━━━━━━━━━━━━━━━━\u001b[0m\u001b[37m\u001b[0m \u001b[1m16s\u001b[0m 6ms/step - accuracy: 0.8760 - loss: 0.3074 - val_accuracy: 0.8377 - val_loss: 0.3598\n",
            "Epoch 3/5\n",
            "\u001b[1m2582/2582\u001b[0m \u001b[32m━━━━━━━━━━━━━━━━━━━━\u001b[0m\u001b[37m\u001b[0m \u001b[1m16s\u001b[0m 6ms/step - accuracy: 0.8904 - loss: 0.2756 - val_accuracy: 0.8456 - val_loss: 0.3394\n",
            "Epoch 4/5\n",
            "\u001b[1m2582/2582\u001b[0m \u001b[32m━━━━━━━━━━━━━━━━━━━━\u001b[0m\u001b[37m\u001b[0m \u001b[1m16s\u001b[0m 6ms/step - accuracy: 0.8980 - loss: 0.2604 - val_accuracy: 0.8481 - val_loss: 0.3289\n",
            "Epoch 5/5\n",
            "\u001b[1m2582/2582\u001b[0m \u001b[32m━━━━━━━━━━━━━━━━━━━━\u001b[0m\u001b[37m\u001b[0m \u001b[1m17s\u001b[0m 6ms/step - accuracy: 0.9020 - loss: 0.2509 - val_accuracy: 0.8554 - val_loss: 0.3152\n",
            "-> Acurácia de validação do Fold 3: 0.8554\n",
            "--- Fold 4/5 ---\n",
            "Treinando Fold 4 por 5 épocas...\n",
            "Epoch 1/5\n",
            "\u001b[1m2582/2582\u001b[0m \u001b[32m━━━━━━━━━━━━━━━━━━━━\u001b[0m\u001b[37m\u001b[0m \u001b[1m17s\u001b[0m 6ms/step - accuracy: 0.7591 - loss: 0.5103 - val_accuracy: 0.8411 - val_loss: 0.3338\n",
            "Epoch 2/5\n",
            "\u001b[1m2582/2582\u001b[0m \u001b[32m━━━━━━━━━━━━━━━━━━━━\u001b[0m\u001b[37m\u001b[0m \u001b[1m16s\u001b[0m 6ms/step - accuracy: 0.8756 - loss: 0.3022 - val_accuracy: 0.8617 - val_loss: 0.3135\n",
            "Epoch 3/5\n",
            "\u001b[1m2582/2582\u001b[0m \u001b[32m━━━━━━━━━━━━━━━━━━━━\u001b[0m\u001b[37m\u001b[0m \u001b[1m15s\u001b[0m 6ms/step - accuracy: 0.8906 - loss: 0.2728 - val_accuracy: 0.8726 - val_loss: 0.2985\n",
            "Epoch 4/5\n",
            "\u001b[1m2582/2582\u001b[0m \u001b[32m━━━━━━━━━━━━━━━━━━━━\u001b[0m\u001b[37m\u001b[0m \u001b[1m15s\u001b[0m 6ms/step - accuracy: 0.8987 - loss: 0.2586 - val_accuracy: 0.8767 - val_loss: 0.2921\n",
            "Epoch 5/5\n",
            "\u001b[1m2582/2582\u001b[0m \u001b[32m━━━━━━━━━━━━━━━━━━━━\u001b[0m\u001b[37m\u001b[0m \u001b[1m15s\u001b[0m 6ms/step - accuracy: 0.9039 - loss: 0.2494 - val_accuracy: 0.8834 - val_loss: 0.2805\n",
            "-> Acurácia de validação do Fold 4: 0.8834\n",
            "--- Fold 5/5 ---\n",
            "Treinando Fold 5 por 5 épocas...\n",
            "Epoch 1/5\n",
            "\u001b[1m2582/2582\u001b[0m \u001b[32m━━━━━━━━━━━━━━━━━━━━\u001b[0m\u001b[37m\u001b[0m \u001b[1m18s\u001b[0m 6ms/step - accuracy: 0.7580 - loss: 0.5127 - val_accuracy: 0.8431 - val_loss: 0.3436\n",
            "Epoch 2/5\n",
            "\u001b[1m2582/2582\u001b[0m \u001b[32m━━━━━━━━━━━━━━━━━━━━\u001b[0m\u001b[37m\u001b[0m \u001b[1m15s\u001b[0m 6ms/step - accuracy: 0.8777 - loss: 0.2988 - val_accuracy: 0.8620 - val_loss: 0.3177\n",
            "Epoch 3/5\n",
            "\u001b[1m2582/2582\u001b[0m \u001b[32m━━━━━━━━━━━━━━━━━━━━\u001b[0m\u001b[37m\u001b[0m \u001b[1m22s\u001b[0m 6ms/step - accuracy: 0.8931 - loss: 0.2714 - val_accuracy: 0.8639 - val_loss: 0.3226\n",
            "Epoch 4/5\n",
            "\u001b[1m2582/2582\u001b[0m \u001b[32m━━━━━━━━━━━━━━━━━━━━\u001b[0m\u001b[37m\u001b[0m \u001b[1m19s\u001b[0m 6ms/step - accuracy: 0.9008 - loss: 0.2575 - val_accuracy: 0.8682 - val_loss: 0.3126\n",
            "Epoch 5/5\n",
            "\u001b[1m2582/2582\u001b[0m \u001b[32m━━━━━━━━━━━━━━━━━━━━\u001b[0m\u001b[37m\u001b[0m \u001b[1m15s\u001b[0m 6ms/step - accuracy: 0.9055 - loss: 0.2478 - val_accuracy: 0.8731 - val_loss: 0.2988\n",
            "-> Acurácia de validação do Fold 5: 0.8731\n",
            "========================================\n",
            "Resultado da Validação Cruzada\n",
            "========================================\n",
            "Acurácia Média nos 5 folds: 0.8710\n",
            "Desvio Padrão da Acurácia: 0.0091\n",
            "Explicação:\n",
            "- A acurácia média de 87.10% indica que, em média, o modelo acertou essa porcentagem das classificações nos testes de validação.\n",
            "- O desvio padrão baixo sugere que a performance do modelo foi consistente entre os diferentes folds.\n",
            "========================================\n"
          ]
        }
      ],
      "source": [
        "if 'X_train_full' in locals() and 'vectorize_layer' in locals(): # Checar dependências\n",
        "    n_splits = 5 # Número de folds para validação cruzada\n",
        "    skf = StratifiedKFold(n_splits=n_splits, shuffle=True, random_state=42)\n",
        "\n",
        "    fold_accuracies = []\n",
        "    fold_histories = []\n",
        "\n",
        "    print(f\"Iniciando treinamento com validação cruzada ({n_splits} folds)...\")\n",
        "\n",
        "    fold_no = 1\n",
        "    for train_index, val_index in skf.split(X_train_full, y_train_full):\n",
        "        print(f\"--- Fold {fold_no}/{n_splits} ---\")\n",
        "\n",
        "        # Dividir dados do fold\n",
        "        X_train_fold = X_train_full.iloc[train_index]\n",
        "        y_train_fold = y_train_full[train_index]\n",
        "        X_val_fold = X_train_full.iloc[val_index]\n",
        "        y_val_fold = y_train_full[val_index]\n",
        "\n",
        "        # Criar datasets do TensorFlow para o fold atual (com texto bruto)\n",
        "        train_fold_ds = tf.data.Dataset.from_tensor_slices((X_train_fold.values, y_train_fold))\n",
        "        train_fold_ds = train_fold_ds.batch(32).prefetch(tf.data.AUTOTUNE)\n",
        "\n",
        "        val_fold_ds = tf.data.Dataset.from_tensor_slices((X_val_fold.values, y_val_fold))\n",
        "        val_fold_ds = val_fold_ds.batch(32).prefetch(tf.data.AUTOTUNE)\n",
        "\n",
        "        # Criar e compilar o modelo (uma nova instância para cada fold)\n",
        "        model_fold = create_model()\n",
        "\n",
        "        # Treinar o modelo (passando texto bruto)\n",
        "        epochs = 5 # Número de épocas por fold (ajuste conforme necessário)\n",
        "        print(f\"Treinando Fold {fold_no} por {epochs} épocas...\")\n",
        "        history = model_fold.fit(\n",
        "            train_fold_ds, # Passa texto bruto\n",
        "            validation_data=val_fold_ds, # Passa texto bruto\n",
        "            epochs=epochs,\n",
        "            verbose=1 # Mostrar progresso\n",
        "        )\n",
        "\n",
        "        # Avaliar no conjunto de validação do fold\n",
        "        loss, accuracy = model_fold.evaluate(val_fold_ds, verbose=0)\n",
        "        print(f\"-> Acurácia de validação do Fold {fold_no}: {accuracy:.4f}\")\n",
        "        fold_accuracies.append(accuracy)\n",
        "        fold_histories.append(history)\n",
        "\n",
        "        fold_no += 1\n",
        "\n",
        "    # --- Output Melhorado ---\n",
        "    print(\"\" + \"=\"*40)\n",
        "    print(\"Resultado da Validação Cruzada\")\n",
        "    print(\"=\"*40)\n",
        "    mean_acc = np.mean(fold_accuracies)\n",
        "    std_acc = np.std(fold_accuracies)\n",
        "    print(f\"Acurácia Média nos {n_splits} folds: {mean_acc:.4f}\")\n",
        "    print(f\"Desvio Padrão da Acurácia: {std_acc:.4f}\")\n",
        "    print(\"Explicação:\")\n",
        "    print(f\"- A acurácia média de {mean_acc:.2%} indica que, em média, o modelo acertou essa porcentagem das classificações nos testes de validação.\")\n",
        "    print(\"- O desvio padrão baixo sugere que a performance do modelo foi consistente entre os diferentes folds.\")\n",
        "    print(\"=\"*40)\n",
        "\n",
        "else:\n",
        "    print(\"Erro: Variáveis necessárias para validação cruzada não definidas.\")"
      ]
    },
    {
      "cell_type": "markdown",
      "id": "d402bad9",
      "metadata": {
        "id": "d402bad9"
      },
      "source": [
        "# 8. Treinamento do Modelo Final (com todos os dados de treino)"
      ]
    },
    {
      "cell_type": "code",
      "execution_count": 107,
      "id": "f3d3df0e",
      "metadata": {
        "colab": {
          "base_uri": "https://localhost:8080/"
        },
        "id": "f3d3df0e",
        "outputId": "28b04451-b737-42d8-caab-89810319a276"
      },
      "outputs": [
        {
          "output_type": "stream",
          "name": "stdout",
          "text": [
            "Treinando modelo final com todos os dados de treino...\n",
            "Treinando modelo final por 5 épocas...\n",
            "Epoch 1/5\n",
            "\u001b[1m3227/3227\u001b[0m \u001b[32m━━━━━━━━━━━━━━━━━━━━\u001b[0m\u001b[37m\u001b[0m \u001b[1m20s\u001b[0m 5ms/step - accuracy: 0.7741 - loss: 0.4828\n",
            "Epoch 2/5\n",
            "\u001b[1m3227/3227\u001b[0m \u001b[32m━━━━━━━━━━━━━━━━━━━━\u001b[0m\u001b[37m\u001b[0m \u001b[1m18s\u001b[0m 6ms/step - accuracy: 0.8836 - loss: 0.2893\n",
            "Epoch 3/5\n",
            "\u001b[1m3227/3227\u001b[0m \u001b[32m━━━━━━━━━━━━━━━━━━━━\u001b[0m\u001b[37m\u001b[0m \u001b[1m19s\u001b[0m 6ms/step - accuracy: 0.8970 - loss: 0.2680\n",
            "Epoch 4/5\n",
            "\u001b[1m3227/3227\u001b[0m \u001b[32m━━━━━━━━━━━━━━━━━━━━\u001b[0m\u001b[37m\u001b[0m \u001b[1m27s\u001b[0m 8ms/step - accuracy: 0.9027 - loss: 0.2575\n",
            "Epoch 5/5\n",
            "\u001b[1m3227/3227\u001b[0m \u001b[32m━━━━━━━━━━━━━━━━━━━━\u001b[0m\u001b[37m\u001b[0m \u001b[1m39s\u001b[0m 7ms/step - accuracy: 0.9059 - loss: 0.2507\n",
            "Treinamento final concluído.\n"
          ]
        }
      ],
      "source": [
        "if 'X_train_full' in locals() and 'vectorize_layer' in locals(): # Checar dependências\n",
        "    print(\"Treinando modelo final com todos os dados de treino...\")\n",
        "\n",
        "    # Criar datasets completos de treino (com texto bruto)\n",
        "    train_full_ds = tf.data.Dataset.from_tensor_slices((X_train_full.values, y_train_full))\n",
        "    train_full_ds = train_full_ds.batch(32).prefetch(tf.data.AUTOTUNE)\n",
        "\n",
        "    # Criar e treinar o modelo final\n",
        "    final_model = create_model()\n",
        "    final_epochs = 5 # Ajuste conforme a análise dos folds ou necessidade\n",
        "    print(f\"Treinando modelo final por {final_epochs} épocas...\")\n",
        "    history_final = final_model.fit(\n",
        "        train_full_ds, # Passa texto bruto\n",
        "        epochs=final_epochs,\n",
        "        verbose=1\n",
        "    )\n",
        "    print(\"Treinamento final concluído.\")\n",
        "else:\n",
        "    print(\"Erro: Variáveis necessárias para o treinamento final não definidas.\")"
      ]
    },
    {
      "cell_type": "markdown",
      "id": "fca15714",
      "metadata": {
        "id": "fca15714"
      },
      "source": [
        "# 9. Avaliação Final no Conjunto de Teste"
      ]
    },
    {
      "cell_type": "code",
      "execution_count": 108,
      "id": "f1718367",
      "metadata": {
        "colab": {
          "base_uri": "https://localhost:8080/",
          "height": 1000
        },
        "id": "f1718367",
        "outputId": "f026f7cb-6add-4526-fee7-f2336a655d20"
      },
      "outputs": [
        {
          "output_type": "stream",
          "name": "stdout",
          "text": [
            "Avaliando modelo final no conjunto de teste...\n",
            "========================================\n",
            "Resultados da Avaliação Final\n",
            "========================================\n",
            "-> Loss (Perda) no Teste: 0.2936\n",
            "-> Acurácia no Teste: 0.8830 (88.30%)\n",
            "Explicação:\n",
            "- Loss: Uma medida do erro do modelo. Quanto menor, melhor.\n",
            "- Acurácia: A porcentagem de classificações corretas (88.30%) que o modelo fez no conjunto de teste.\n",
            "----------------------------------------\n",
            "Gerando predições para o relatório detalhado...\n",
            "\u001b[1m807/807\u001b[0m \u001b[32m━━━━━━━━━━━━━━━━━━━━\u001b[0m\u001b[37m\u001b[0m \u001b[1m3s\u001b[0m 3ms/step\n",
            "--- Relatório de Classificação Detalhado ---\n",
            "                   precision    recall  f1-score   support\n",
            "\n",
            "Não Recomenda (0)       0.72      0.92      0.81      6803\n",
            "    Recomenda (1)       0.97      0.87      0.92     19013\n",
            "\n",
            "         accuracy                           0.88     25816\n",
            "        macro avg       0.84      0.90      0.86     25816\n",
            "     weighted avg       0.90      0.88      0.89     25816\n",
            "\n",
            "Explicação do Relatório:\n",
            "- Precisão (Precision): Das vezes que o modelo previu uma classe, quantas ele acertou? (Ex: Precisão alta para 'Recomenda' significa que quando ele diz 'Recomenda', é provável que esteja certo).\n",
            "- Revocação (Recall): De todas as instâncias reais de uma classe, quantas o modelo conseguiu encontrar? (Ex: Recall alto para 'Recomenda' significa que o modelo encontrou a maioria das reviews que realmente recomendam).\n",
            "- F1-Score: Uma média harmônica entre precisão e revocação. Útil para comparar o desempenho geral entre as classes.\n",
            "- Support: Quantas instâncias reais de cada classe existem no conjunto de teste.\n",
            "----------------------------------------\n",
            "--- Matriz de Confusão ---\n"
          ]
        },
        {
          "output_type": "display_data",
          "data": {
            "text/plain": [
              "<Figure size 600x400 with 2 Axes>"
            ],
            "image/png": "[encoded data removed]"
          },
          "metadata": {}
        },
        {
          "output_type": "stream",
          "name": "stdout",
          "text": [
            "Explicação da Matriz:\n",
            "- Diagonal Principal (azul mais escuro): Acertos do modelo (Verdadeiros Negativos e Verdadeiros Positivos).\n",
            "- Fora da Diagonal (azul mais claro): Erros do modelo (Falsos Positivos e Falsos Negativos).\n",
            "  - Falso Positivo: Modelo previu 'Recomenda', mas era 'Não Recomenda'.\n",
            "  - Falso Negativo: Modelo previu 'Não Recomenda', mas era 'Recomenda'.\n",
            "========================================\n"
          ]
        }
      ],
      "source": [
        "if 'final_model' in locals() and 'X_test' in locals() and 'y_test' in locals(): # Checar dependências\n",
        "    print(\"Avaliando modelo final no conjunto de teste...\")\n",
        "\n",
        "    # Avaliar usando X_test.values e y_test diretamente\n",
        "    loss_test, accuracy_test = final_model.evaluate(X_test.values, y_test, batch_size=32, verbose=0)\n",
        "\n",
        "    print(\"\" + \"=\"*40)\n",
        "    print(\"Resultados da Avaliação Final\")\n",
        "    print(\"=\"*40)\n",
        "    print(f\"-> Loss (Perda) no Teste: {loss_test:.4f}\")\n",
        "    print(f\"-> Acurácia no Teste: {accuracy_test:.4f} ({accuracy_test:.2%})\")\n",
        "    print(\"Explicação:\")\n",
        "    print(f\"- Loss: Uma medida do erro do modelo. Quanto menor, melhor.\")\n",
        "    print(f\"- Acurácia: A porcentagem de classificações corretas ({accuracy_test:.2%}) que o modelo fez no conjunto de teste.\")\n",
        "    print(\"-\"*40)\n",
        "\n",
        "    # Fazer predições para gerar o relatório e a matriz de confusão\n",
        "    print(\"Gerando predições para o relatório detalhado...\")\n",
        "    y_pred_proba = final_model.predict(X_test.values, batch_size=32)\n",
        "    y_pred = (y_pred_proba > 0.5).astype(int).flatten()\n",
        "\n",
        "    print(\"--- Relatório de Classificação Detalhado ---\")\n",
        "    # Imprimir o relatório de classificação\n",
        "    report = classification_report(y_test, y_pred, target_names=['Não Recomenda (0)', 'Recomenda (1)'])\n",
        "    print(report)\n",
        "    print(\"Explicação do Relatório:\")\n",
        "    print(\"- Precisão (Precision): Das vezes que o modelo previu uma classe, quantas ele acertou? (Ex: Precisão alta para 'Recomenda' significa que quando ele diz 'Recomenda', é provável que esteja certo).\")\n",
        "    print(\"- Revocação (Recall): De todas as instâncias reais de uma classe, quantas o modelo conseguiu encontrar? (Ex: Recall alto para 'Recomenda' significa que o modelo encontrou a maioria das reviews que realmente recomendam).\")\n",
        "    print(\"- F1-Score: Uma média harmônica entre precisão e revocação. Útil para comparar o desempenho geral entre as classes.\")\n",
        "    print(\"- Support: Quantas instâncias reais de cada classe existem no conjunto de teste.\")\n",
        "    print(\"-\"*40)\n",
        "\n",
        "    # --- Matriz de Confusão ---\n",
        "    print(\"--- Matriz de Confusão ---\")\n",
        "    cm = confusion_matrix(y_test, y_pred)\n",
        "    plt.figure(figsize=(6, 4))\n",
        "    sns.heatmap(cm, annot=True, fmt='d', cmap='Blues',\n",
        "                xticklabels=['Previsto Não Recomenda', 'Previsto Recomenda'],\n",
        "                yticklabels=['Real Não Recomenda', 'Real Recomenda'])\n",
        "    plt.ylabel('Verdadeiro')\n",
        "    plt.xlabel('Previsto pelo Modelo')\n",
        "    plt.title('Matriz de Confusão')\n",
        "    plt.show()\n",
        "    print(\"Explicação da Matriz:\")\n",
        "    print(\"- Diagonal Principal (azul mais escuro): Acertos do modelo (Verdadeiros Negativos e Verdadeiros Positivos).\")\n",
        "    print(\"- Fora da Diagonal (azul mais claro): Erros do modelo (Falsos Positivos e Falsos Negativos).\")\n",
        "    print(\"  - Falso Positivo: Modelo previu 'Recomenda', mas era 'Não Recomenda'.\")\n",
        "    print(\"  - Falso Negativo: Modelo previu 'Não Recomenda', mas era 'Recomenda'.\")\n",
        "    print(\"=\"*40)\n",
        "\n",
        "else:\n",
        "    print(\"Erro: Modelo final ou dados de teste não definidos para avaliação.\")"
      ]
    },
    {
      "cell_type": "markdown",
      "id": "0aacdc68",
      "metadata": {
        "id": "0aacdc68"
      },
      "source": [
        "# 10. Salvar o Modelo Treinado"
      ]
    },
    {
      "cell_type": "code",
      "execution_count": 109,
      "id": "7572aa0f",
      "metadata": {
        "colab": {
          "base_uri": "https://localhost:8080/"
        },
        "id": "7572aa0f",
        "outputId": "695de053-7e77-4d61-9bcc-53b133f8d4a0"
      },
      "outputs": [
        {
          "output_type": "stream",
          "name": "stdout",
          "text": [
            "Modelo Keras salvo em: modelosalvo.keras\n"
          ]
        }
      ],
      "source": [
        "if 'final_model' in locals(): # Checar dependências\n",
        "    # Salvar o modelo Keras completo (inclui arquitetura, pesos e a camada TextVectorization com a função registrada)\n",
        "    model_save_path = 'modelosalvo.keras' # Nome atualizado v7.1\n",
        "    final_model.save(model_save_path)\n",
        "    print(f\"Modelo Keras salvo em: {model_save_path}\")\n",
        "else:\n",
        "    print(\"Erro: Modelo final não definido para salvar.\")"
      ]
    },
    {
      "cell_type": "markdown",
      "id": "45f9e3c0",
      "metadata": {
        "id": "45f9e3c0"
      },
      "source": [
        "# 11. Criar Função de Predição para Novos Dados"
      ]
    },
    {
      "cell_type": "code",
      "source": [
        "# É necessário definir a função novamente dentro do ambiente do notebook\n",
        "# para que ela seja encontrada ao carregar o modelo com custom_objects.\n",
        "@utils.register_keras_serializable()\n",
        "def custom_standardization(input_data):\n",
        "    lowercase = tf.strings.lower(input_data)\n",
        "    stripped_html = tf.strings.regex_replace(lowercase, \"<br />\", \" \")\n",
        "    return tf.strings.regex_replace(stripped_html,\n",
        "                                  \"[%s]\" % re.escape(string.punctuation),\n",
        "                                  \"\")\n",
        "\n",
        "def predict_new_review(text_input, model_path=\t'b2w_recommendation_model_v7.1.keras'\t): # Path atualizado v7.1\n",
        "    \"\"\"\n",
        "    Carrega o modelo Keras treinado e faz uma predição para um novo texto.\n",
        "\n",
        "    Args:\n",
        "        text_input (str): A string contendo a review a ser classificada.\n",
        "        model_path (str): O caminho para o arquivo .keras do modelo salvo.\n",
        "\n",
        "    Returns:\n",
        "        tuple: (predicted_class (int), probability (float))\n",
        "               Retorna (None, None) se o modelo não puder ser carregado.\n",
        "    \"\"\"\n",
        "    try:\n",
        "        # Carregar o modelo, passando a função customizada\n",
        "        loaded_model = keras.models.load_model(model_path, custom_objects={\t'custom_standardization'\t: custom_standardization})\n",
        "\n",
        "        # Correção: Fazer a predição passando um Tensor do TensorFlow\n",
        "        predictions = loaded_model.predict(tf.constant([text_input]), verbose=0)\n",
        "        probability = predictions[0][0]\n",
        "        predicted_class = 1 if probability > 0.5 else 0\n",
        "\n",
        "        return predicted_class, probability\n",
        "\n",
        "    except Exception as e:\n",
        "        print(f\"\\n*** ERRO ao tentar usar o modelo: {e} ***\")\n",
        "        print(f\"*** Verifique se o arquivo \t'{model_path}'\t existe e foi gerado pela célula anterior. ***\")\n",
        "        return None, None\n",
        "\n",
        "print(\"Função predict_new_review definida.\")\n"
      ],
      "metadata": {
        "colab": {
          "base_uri": "https://localhost:8080/"
        },
        "id": "fYgr-7Pzv7iD",
        "outputId": "59304796-246a-40c2-d381-13e21e903096"
      },
      "id": "fYgr-7Pzv7iD",
      "execution_count": 112,
      "outputs": [
        {
          "output_type": "stream",
          "name": "stdout",
          "text": [
            "Função predict_new_review definida.\n"
          ]
        }
      ]
    },
    {
      "cell_type": "markdown",
      "id": "b164161a",
      "metadata": {
        "id": "b164161a"
      },
      "source": [
        "# 12. Exemplo de Uso da Função de Predição"
      ]
    },
    {
      "cell_type": "code",
      "execution_count": 113,
      "id": "9e9c3041",
      "metadata": {
        "colab": {
          "base_uri": "https://localhost:8080/"
        },
        "id": "9e9c3041",
        "outputId": "448fdd58-9f3d-4c10-c4a5-37331861d1c5"
      },
      "outputs": [
        {
          "output_type": "stream",
          "name": "stdout",
          "text": [
            "Analisando Review: \"Adorei o produto! Entrega super rápida e qualidade excelente. Recomendo muito!\"\n",
            "--> Recomendação: Recomenda\n",
            "Analisando Review: \"Péssima experiência. O produto veio quebrado e o atendimento foi horrível. Não comprem.\"\n",
            "--> Recomendação: Não Recomenda\n"
          ]
        }
      ],
      "source": [
        "# Modelo a ser usado pela função predict_new_review\n",
        "model_file_to_test = 'modelosalvo.keras'\n",
        "\n",
        "def run_prediction_example(review_text):\n",
        "    print(f'Analisando Review: \"{review_text}\"')\n",
        "    pred_class, pred_prob = predict_new_review(review_text, model_file_to_test)\n",
        "\n",
        "    if pred_class is not None:\n",
        "        resultado = 'Recomenda' if pred_class == 1 else 'Não Recomenda'\n",
        "        # Output simplificado: Apenas a recomendação final\n",
        "        print(f'--> Recomendação: {resultado}')\n",
        "    # A mensagem de erro já é impressa pela função predict_new_review se algo der errado\n",
        "\n",
        "# --- Exemplos ---\n",
        "review_positiva = \"Adorei o produto! Entrega super rápida e qualidade excelente. Recomendo muito!\"\n",
        "review_negativa = \"Péssima experiência. O produto veio quebrado e o atendimento foi horrível. Não comprem.\"\n",
        "\n",
        "run_prediction_example(review_positiva)\n",
        "run_prediction_example(review_negativa)\n",
        "\n"
      ]
    },
    {
      "cell_type": "markdown",
      "id": "95256c09",
      "metadata": {
        "id": "95256c09"
      },
      "source": [
        "--- Fim do Notebook ---"
      ]
    }
  ],
  "metadata": {
    "colab": {
      "provenance": [],
      "include_colab_link": true
    },
    "language_info": {
      "name": "python"
    },
    "kernelspec": {
      "name": "python3",
      "display_name": "Python 3"
    }
  },
  "nbformat": 4,
  "nbformat_minor": 5
}